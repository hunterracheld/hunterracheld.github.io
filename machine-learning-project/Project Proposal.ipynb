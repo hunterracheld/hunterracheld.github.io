{
 "cells": [
  {
   "cell_type": "markdown",
   "metadata": {},
   "source": [
    "# Divorce Predictors\n",
    "\n",
    "\n",
    "## Project Topic\n",
    "\n",
    "We are looking at a dataset that contains the survey results of married/divorce couples. Depending on the responses, are the questions indicators of whether a couple is divorced or married.\n",
    "Can we identify commonalities in the results, build a model and predict the likelihood of divorce or common factors from their responses.\n",
    "\n",
    "\n",
    "## Rationale \n",
    "\n",
    "_Add a paragraph or two describing why this data is interesting or relevant to you and your audience. What do you want you audience to take away. Are there questions you're trying to answer? Note: this section is likely to change as you work with your data, but it's helpful to have an idea at this point._\n",
    "This dataset is interesting to us because we are working with relevant qualitative data. We would like to show a deep learning predictive model that reflects what concepts are important to having a sucessful marriage and identify \"red flags\" for couples.\n",
    "\n",
    "## Data Sets\n",
    "\n",
    "Add a brief description of each of the data sources you will be using. Add links or screenshots where possible.\n",
    "\n",
    "https://archive.ics.uci.edu/ml/machine-learning-databases/00497/\n",
    "CSV is in repo\n",
    "\n",
    "\n",
    "## Project Stack\n",
    "\n",
    "What ML algorithms are you considering?\n",
    "Clustering, Linear Regression, Classification\n",
    "\n",
    "Which libraries, tools, and technology will you use?\n",
    "Tableau \n",
    "HTML/CSS/Bootstrap\n",
    "Python Pandas\n",
    "\n",
    "\n",
    "## Project Goals\n",
    "\n",
    "What will your end product be?\n",
    "Interactive page to show our visualizations and results.\n",
    "\n",
    "Do you any alternative plans if something doesn't go as expected?\n",
    "We have other related datasets we can use.\n",
    "\n",
    "\n",
    "## OPTIONAL Work load organization\n",
    "We have a working google doc with timelines and roles to keep us on track.\n",
    "\n",
    "This is not required but it may be helpful to think through at the beginning of your project. How will you divide up the work? How will you use git to colloborate? How will you prioritize tasks and deliverables? How will you track what needs to be done?"
   ]
  }
 ],
 "metadata": {
  "kernelspec": {
   "display_name": "Python 3.6.9 64-bit",
   "language": "python",
   "name": "python36964bite4861c1e7fbe418dbed75f142e15d5ec"
  },
  "language_info": {
   "codemirror_mode": {
    "name": "ipython",
    "version": 3
   },
   "file_extension": ".py",
   "mimetype": "text/x-python",
   "name": "python",
   "nbconvert_exporter": "python",
   "pygments_lexer": "ipython3",
   "version": "3.6.9"
  }
 },
 "nbformat": 4,
 "nbformat_minor": 2
}
